{
 "cells": [
  {
   "cell_type": "code",
   "execution_count": null,
   "id": "e1839283-d13e-476e-8bc9-48bcb19089b6",
   "metadata": {},
   "outputs": [],
   "source": [
    "import torch\n",
    "from torch import nn\n",
    "from torch.optim import Adam\n",
    "from torchvision.transforms import transforms\n",
    "from torch.utils.data import DataLoader, Dataset\n",
    "from torchvision import models\n",
    "from sklearn.preprocessing import LabelEncoder\n",
    "import matplotlib.pyplot as plt\n",
    "from PIL import Image\n",
    "import pandas as pd\n",
    "import numpy as np"
   ]
  },
  {
   "cell_type": "code",
   "execution_count": null,
   "id": "93ac4747-5aa9-4aa6-a156-6add9b91babf",
   "metadata": {},
   "outputs": [],
   "source": [
    "train_df = pd.read_csv(\"recent/train.csv\")\n",
    "val_df = pd.read_csv(\"recent/val.csv\")\n",
    "\n",
    "train_df[\"image:FILE\"] = \"recent/\" + train_df[\"image:FILE\"]\n",
    "val_df[\"image:FILE\"] = \"recent/\" + val_df[\"image:FILE\"]"
   ]
  },
  {
   "cell_type": "code",
   "execution_count": null,
   "id": "5dd24f9c-f949-448c-8a79-83be2d78c414",
   "metadata": {},
   "outputs": [],
   "source": [
    "print(\"train data shape:\" ,train_df.shape)\n",
    "print(\"validation data shape:\" ,val_df.shape)"
   ]
  },
  {
   "cell_type": "code",
   "execution_count": null,
   "id": "b610d411-202b-4795-be65-24982ea56145",
   "metadata": {},
   "outputs": [],
   "source": [
    "train_df.sample(3)"
   ]
  },
  {
   "cell_type": "code",
   "execution_count": null,
   "id": "9b453b92-9694-4a4d-b39b-5c30e3befffc",
   "metadata": {},
   "outputs": [],
   "source": [
    "train_df[\"category\"].value_counts()"
   ]
  },
  {
   "cell_type": "code",
   "execution_count": null,
   "id": "853059a9-5add-447d-a948-ac87d0453cb6",
   "metadata": {},
   "outputs": [],
   "source": [
    "# transforming to make sure all become same\n",
    "\n",
    "transform = transforms.Compose([\n",
    "    transforms.Resize((128,128)),\n",
    "    transforms.ToTensor(),\n",
    "    transforms.ConvertImageDtype(torch.float)\n",
    "])"
   ]
  },
  {
   "cell_type": "code",
   "execution_count": null,
   "id": "8beb89c6-ec5e-41f8-a8f6-3f13f13142cd",
   "metadata": {},
   "outputs": [],
   "source": [
    "class MyImageData(Dataset):\n",
    "    def __init__(self,dataframe, transform):\n",
    "        self.dataframe = dataframe\n",
    "        self.transform = transform\n",
    "        self.labels = torch.tensor(dataframe[\"category\"])\n",
    "        \n",
    "    def __len__(self):\n",
    "        return self.dataframe.shape[0]\n",
    "        \n",
    "    def __getitem__(self, idx):\n",
    "        img_path = self.dataframe.iloc[idx, 0]\n",
    "        label = self.labels[idx]\n",
    "        image = Image.open(img_path)\n",
    "        if self.transform:\n",
    "            image = self.transform(image)/255.0\n",
    "        return image, label"
   ]
  },
  {
   "cell_type": "code",
   "execution_count": null,
   "id": "b076e66f-4c92-4839-a6ab-0ebe6146d48a",
   "metadata": {},
   "outputs": [],
   "source": [
    "train_dataset = MyImageData(dataframe=train_df, transform=transform)\n",
    "val_dataset = MyImageData(dataframe=val_df, transform=transform)"
   ]
  },
  {
   "cell_type": "code",
   "execution_count": null,
   "id": "4407b4de-bc26-48e1-8350-7074603d0024",
   "metadata": {},
   "outputs": [],
   "source": [
    "n_rows = 3\n",
    "n_cols = 3\n",
    "f, ax = plt.subplots(n_rows, n_cols)\n",
    "\n",
    "for row in range(n_rows):\n",
    "    for col in range(n_cols):\n",
    "        image = train_dataset[np.random.randint(0, train_dataset.__len__())][0]\n",
    "        ax[row, col].imshow((image*255.0).squeeze().permute(1,2,0))\n",
    "        ax[row, col].axis(\"off\")\n",
    "\n",
    "plt.tight_layout()\n",
    "plt.show()"
   ]
  },
  {
   "cell_type": "code",
   "execution_count": null,
   "id": "6297e806-a995-4f6d-9949-ab6781e1c505",
   "metadata": {},
   "outputs": [],
   "source": [
    "lr = 1e-3\n",
    "batch_size = 4\n",
    "epochs = 10"
   ]
  },
  {
   "cell_type": "code",
   "execution_count": null,
   "id": "242d918b-41dc-490e-8cad-534b23075129",
   "metadata": {},
   "outputs": [],
   "source": [
    "train_loader = DataLoader(train_dataset, batch_size=batch_size, shuffle=True)\n",
    "val_loader = DataLoader(val_dataset, batch_size=batch_size, shuffle=True)"
   ]
  },
  {
   "cell_type": "code",
   "execution_count": null,
   "id": "21d0f557-e632-4d9b-a453-34bf9e6b6d16",
   "metadata": {},
   "outputs": [],
   "source": [
    "googlenet_model = models.googlenet(weights=\"DEFAULT\")"
   ]
  },
  {
   "cell_type": "code",
   "execution_count": null,
   "id": "df605250-29db-49af-8820-7b9c42f69069",
   "metadata": {},
   "outputs": [],
   "source": [
    "for param in googlenet_model.parameters():\n",
    "    param.requires_grad = True              #tells the model for its parameters to learn again"
   ]
  },
  {
   "cell_type": "code",
   "execution_count": null,
   "id": "00cdba77-c8bd-4757-8356-6cb48393d0f8",
   "metadata": {},
   "outputs": [],
   "source": [
    "googlenet_model.fc   #checking the last layer, we can see it has 1000 class for classification"
   ]
  },
  {
   "cell_type": "code",
   "execution_count": null,
   "id": "24d1a033-117f-4daa-913d-3839a9583d94",
   "metadata": {},
   "outputs": [],
   "source": [
    "num_classes = len(train_df['category'].unique())    #checking how many classes do we have\n",
    "num_classes"
   ]
  },
  {
   "cell_type": "code",
   "execution_count": null,
   "id": "806f96b0-e750-433e-bebf-3b81af128f4b",
   "metadata": {},
   "outputs": [],
   "source": [
    "googlenet_model.fc = torch.nn.Linear(googlenet_model.fc.in_features, num_classes)\n",
    "googlenet_model.fc          #changing the output classes to 3 as we have it"
   ]
  },
  {
   "cell_type": "code",
   "execution_count": null,
   "id": "879693ae-1d6a-441b-b259-b6018f931100",
   "metadata": {},
   "outputs": [],
   "source": [
    "criterion = nn.CrossEntropyLoss()\n",
    "optimizer = Adam(googlenet_model.parameters(), lr=lr)\n",
    "\n",
    "total_train_loss_plot = []\n",
    "total_train_acc_plot = []\n",
    "\n",
    "for epoch in range(epochs):\n",
    "    total_acc_train=0\n",
    "    total_loss_train=0\n",
    "    for inputs, labels in train_loader:\n",
    "        optimizer.zero_grad()\n",
    "        outputs= googlenet_model(inputs)\n",
    "        train_loss = criterion(outputs, labels)\n",
    "        total_loss_train += train_loss.item()\n",
    "        train_loss.backward()\n",
    "        train_acc  = (torch.argmax(outputs, axis =1) == labels).sum().item()\n",
    "        total_acc_train += train_acc\n",
    "        optimizer.step()\n",
    "\n",
    "total_train_loss_plot.append(round(total_loss_train/1000, 4))\n",
    "total_train_acc_plot.append(round(total_acc_train/(train_dataset.__len__())*100, 4))\n",
    "\n",
    "print(f'Epoch {epoch+1}/{epochs}, Train Loss: {round(total_loss_train/100, 4)} Train Accuracy {round((total_acc_train)/train_dataset.__len__() * 100, 4)}%')\n",
    "print()"
   ]
  },
  {
   "cell_type": "code",
   "execution_count": null,
   "id": "18bf8b25-f9c1-4627-b3e6-83fa18b6e98c",
   "metadata": {},
   "outputs": [],
   "source": []
  }
 ],
 "metadata": {
  "kernelspec": {
   "display_name": "Python 3 (ipykernel)",
   "language": "python",
   "name": "python3"
  },
  "language_info": {
   "codemirror_mode": {
    "name": "ipython",
    "version": 3
   },
   "file_extension": ".py",
   "mimetype": "text/x-python",
   "name": "python",
   "nbconvert_exporter": "python",
   "pygments_lexer": "ipython3",
   "version": "3.11.7"
  }
 },
 "nbformat": 4,
 "nbformat_minor": 5
}
